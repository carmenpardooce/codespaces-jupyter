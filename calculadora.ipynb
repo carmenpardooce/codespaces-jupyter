{
 "cells": [
  {
   "cell_type": "code",
   "execution_count": 2,
   "metadata": {},
   "outputs": [
    {
     "name": "stdout",
     "output_type": "stream",
     "text": [
      "7.0 / 8.0 =\n",
      "0.875\n"
     ]
    }
   ],
   "source": [
    "número1=float(input(\"colocar una  cantidad numerica\"))\n",
    "número2=float(input(\"colocar segundo número\"))\n",
    "operación=(input(\"operacion a realizar con *, /, -, +\"))\n",
    "print(número1,operación,número2,\"=\")\n",
    "if operación== \"*\":\n",
    "    print(número1*número2)\n",
    "if operación== \"/\":\n",
    "    print(número1/número2)\n",
    "if operación== \"+\":\n",
    "    print(número1+número2)\n",
    "if operación== \"-\":\n",
    "    print(número1-número2)"
   ]
  }
 ],
 "metadata": {
  "kernelspec": {
   "display_name": "Python 3",
   "language": "python",
   "name": "python3"
  },
  "language_info": {
   "codemirror_mode": {
    "name": "ipython",
    "version": 3
   },
   "file_extension": ".py",
   "mimetype": "text/x-python",
   "name": "python",
   "nbconvert_exporter": "python",
   "pygments_lexer": "ipython3",
   "version": "3.10.13"
  }
 },
 "nbformat": 4,
 "nbformat_minor": 2
}
